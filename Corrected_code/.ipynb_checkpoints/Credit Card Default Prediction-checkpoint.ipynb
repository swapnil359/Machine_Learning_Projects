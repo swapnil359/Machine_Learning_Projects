{
 "cells": [
  {
   "cell_type": "code",
   "execution_count": 290,
   "id": "bc6ffdd9-3159-43a4-b7c2-cb6856148684",
   "metadata": {},
   "outputs": [
    {
     "name": "stdout",
     "output_type": "stream",
     "text": [
      "Columns initially Index(['LIMIT_BAL', 'SEX', 'EDUCATION', 'MARRIAGE', 'AGE', 'PAY_0', 'PAY_2',\n",
      "       'PAY_3', 'PAY_4', 'PAY_5', 'PAY_6', 'BILL_AMT1', 'BILL_AMT2',\n",
      "       'BILL_AMT3', 'BILL_AMT4', 'BILL_AMT5', 'BILL_AMT6', 'PAY_AMT1',\n",
      "       'PAY_AMT2', 'PAY_AMT3', 'PAY_AMT4', 'PAY_AMT5', 'PAY_AMT6',\n",
      "       'default payment next month'],\n",
      "      dtype='object', name=0)\n",
      "Initial No. of Columns 24\n"
     ]
    }
   ],
   "source": [
    "import numpy as np\n",
    "import pandas as pd\n",
    "import matplotlib.pyplot as plt\n",
    "import seaborn as sns\n",
    "df = pd.read_excel(r'C:\\Users\\Laptops\\Datamites\\ModelMates_2024\\default of credit card clients.xls', engine='xlrd')\n",
    "# Drop first column\n",
    "df.columns = df.iloc[0]\n",
    "df = df.drop(0).reset_index(drop=True)\n",
    "df.drop(columns = ['ID'], inplace = True)\n",
    "print('Columns initially', df.columns)\n",
    "print('Initial No. of Columns', df.shape[1])\n",
    "df['LIMIT_BAL'] = pd.to_numeric(df['LIMIT_BAL'], errors='coerce')\n",
    "df['LIMIT_BAL_sqrt'] = np.sqrt(df['LIMIT_BAL'])\n",
    "Q1 = df['LIMIT_BAL_sqrt'].quantile(0.25)\n",
    "Q3 = df['LIMIT_BAL_sqrt'].quantile(0.75)\n",
    "IQR = Q3 - Q1\n",
    "lower_bound = Q1 - 1.5 * IQR\n",
    "upper_bound = Q3 + 1.5 * IQR\n",
    "df['LIMIT_BAL_sqrt'] = df['LIMIT_BAL_sqrt'].clip(lower=lower_bound, upper=upper_bound)\n",
    "# For column Bill_Amt1\n",
    "df['BILL_AMT1'] = pd.to_numeric(df['BILL_AMT1'], errors='coerce')\n",
    "df['BILL_AMT1_cbrt'] = np.cbrt(df['BILL_AMT1'])\n",
    "Q1 = df['BILL_AMT1_cbrt'].quantile(0.25)\n",
    "Q3 = df['BILL_AMT1_cbrt'].quantile(0.75)\n",
    "IQR = Q3 - Q1\n",
    "lower_bound = Q1 - 1.5 * IQR\n",
    "upper_bound = Q3 + 1.5 * IQR\n",
    "df['BILL_AMT1_cbrt'] = df['BILL_AMT1_cbrt'].clip(lower=lower_bound, upper=upper_bound)\n",
    "df['BILL_AMT1_cbrt_binned'] = pd.qcut(df['BILL_AMT1_cbrt'], q=3, labels=['Low', 'Medium', 'High'])\n",
    "df['BILL_AMT1_cbrt_binned'] = df['BILL_AMT1_cbrt_binned'].replace({'Low': 1, 'Medium': 2, 'High': 3})\n",
    "# For column Bill_Amt2\n",
    "df['BILL_AMT2'] = pd.to_numeric(df['BILL_AMT2'], errors='coerce')\n",
    "df['BILL_AMT2_cbrt'] = np.cbrt(df['BILL_AMT2'])\n",
    "Q1 = df['BILL_AMT2_cbrt'].quantile(0.25)\n",
    "Q3 = df['BILL_AMT2_cbrt'].quantile(0.75)\n",
    "IQR = Q3 - Q1\n",
    "lower_bound = Q1 - 1.5 * IQR\n",
    "upper_bound = Q3 + 1.5 * IQR\n",
    "df['BILL_AMT2_cbrt'] = df['BILL_AMT2_cbrt'].clip(lower=lower_bound, upper=upper_bound)\n",
    "df['BILL_AMT2_cbrt_binned'] = pd.qcut(df['BILL_AMT2_cbrt'], q=3, labels=['Low', 'Medium', 'High'])\n",
    "df['BILL_AMT2_cbrt_binned'] = df['BILL_AMT2_cbrt_binned'].replace({'Low': 1, 'Medium': 2, 'High': 3})\n",
    "\n",
    "# For column Bill_Amt3\n",
    "df['BILL_AMT3'] = pd.to_numeric(df['BILL_AMT3'], errors='coerce')\n",
    "df['BILL_AMT3_cbrt'] = np.cbrt(df['BILL_AMT3'])\n",
    "Q1 = df['BILL_AMT3_cbrt'].quantile(0.25)\n",
    "Q3 = df['BILL_AMT3_cbrt'].quantile(0.75)\n",
    "IQR = Q3 - Q1\n",
    "lower_bound = Q1 - 1.5 * IQR\n",
    "upper_bound = Q3 + 1.5 * IQR\n",
    "df['BILL_AMT3_cbrt'] = df['BILL_AMT3_cbrt'].clip(lower=lower_bound, upper=upper_bound)\n",
    "df['BILL_AMT3_cbrt_binned'] = pd.qcut(df['BILL_AMT3_cbrt'], q=3, labels=['Low', 'Medium', 'High'])\n",
    "df['BILL_AMT3_cbrt_binned'] = df['BILL_AMT3_cbrt_binned'].replace({'Low': 1, 'Medium': 2, 'High': 3})\n",
    "# For column Bill_Amt4\n",
    "df['BILL_AMT4'] = pd.to_numeric(df['BILL_AMT4'], errors='coerce')\n",
    "df['BILL_AMT4_cbrt'] = np.cbrt(df['BILL_AMT4'])\n",
    "Q1 = df['BILL_AMT4_cbrt'].quantile(0.25)\n",
    "Q3 = df['BILL_AMT4_cbrt'].quantile(0.75)\n",
    "IQR = Q3 - Q1\n",
    "lower_bound = Q1 - 1.5 * IQR\n",
    "upper_bound = Q3 + 1.5 * IQR\n",
    "df['BILL_AMT4_cbrt'] = df['BILL_AMT4_cbrt'].clip(lower=lower_bound, upper=upper_bound)\n",
    "df['BILL_AMT4_cbrt_binned'] = pd.qcut(df['BILL_AMT4_cbrt'], q=3, labels=['Low', 'Medium', 'High'])\n",
    "df['BILL_AMT4_cbrt_binned'] = df['BILL_AMT4_cbrt_binned'].replace({'Low': 1, 'Medium': 2, 'High': 3})\n",
    "# For column Bill_Amt5\n",
    "df['BILL_AMT5'] = pd.to_numeric(df['BILL_AMT5'], errors='coerce')\n",
    "df['BILL_AMT5_cbrt'] = np.cbrt(df['BILL_AMT5'])\n",
    "Q1 = df['BILL_AMT5_cbrt'].quantile(0.25)\n",
    "Q3 = df['BILL_AMT5_cbrt'].quantile(0.75)\n",
    "IQR = Q3 - Q1\n",
    "lower_bound = Q1 - 1.5 * IQR\n",
    "upper_bound = Q3 + 1.5 * IQR\n",
    "df['BILL_AMT5_cbrt'] = df['BILL_AMT5_cbrt'].clip(lower=lower_bound, upper=upper_bound)\n",
    "df['BILL_AMT5_cbrt_binned'] = pd.qcut(df['BILL_AMT5_cbrt'], q=3, labels=['Low', 'Medium', 'High'])\n",
    "df['BILL_AMT5_cbrt_binned'] = df['BILL_AMT5_cbrt_binned'].replace({'Low': 1, 'Medium': 2, 'High': 3})\n",
    "# For column Bill_Amt6\n",
    "df['BILL_AMT6'] = pd.to_numeric(df['BILL_AMT6'], errors='coerce')\n",
    "df['BILL_AMT6_cbrt'] = np.cbrt(df['BILL_AMT6'])\n",
    "Q1 = df['BILL_AMT6_cbrt'].quantile(0.25)\n",
    "Q3 = df['BILL_AMT6_cbrt'].quantile(0.75)\n",
    "IQR = Q3 - Q1\n",
    "lower_bound = Q1 - 1.5 * IQR\n",
    "upper_bound = Q3 + 1.5 * IQR\n",
    "df['BILL_AMT6_cbrt'] = df['BILL_AMT6_cbrt'].clip(lower=lower_bound, upper=upper_bound)\n",
    "df['BILL_AMT6_cbrt_binned'] = pd.qcut(df['BILL_AMT6_cbrt'], q=3, labels=['Low', 'Medium', 'High'])\n",
    "df['BILL_AMT6_cbrt_binned'] = df['BILL_AMT6_cbrt_binned'].replace({'Low': 1, 'Medium': 2, 'High': 3})\n",
    "# For column pay_Amt1\n",
    "df['PAY_AMT1']=pd.to_numeric(df['PAY_AMT1'],errors='coerce')\n",
    "df['PAY_AMT1_cbrt'] = np.cbrt(df['PAY_AMT1'])\n",
    "Q1 = df['PAY_AMT1_cbrt'].quantile(0.25)\n",
    "Q3 = df['PAY_AMT1_cbrt'].quantile(0.75)\n",
    "IQR = Q3 - Q1\n",
    "lower_bound = Q1 - 1.5 * IQR\n",
    "upper_bound = Q3 + 1.5 * IQR\n",
    "df['PAY_AMT1_cbrt'] = df['PAY_AMT1_cbrt'].clip(lower=lower_bound, upper=upper_bound)\n",
    "df['PAY_AMT1_cbrt_binned'] = pd.qcut(df['PAY_AMT1_cbrt'], q=3, labels=['Low', 'Medium', 'High'])\n",
    "df['PAY_AMT1_cbrt_binned'] = df['PAY_AMT1_cbrt_binned'].replace({'Low': 1, 'Medium': 2, 'High': 3})\n",
    "# For column pay_Amt2\n",
    "df['PAY_AMT2']=pd.to_numeric(df['PAY_AMT2'],errors='coerce')\n",
    "df['PAY_AMT2_cbrt']=np.cbrt(df['PAY_AMT2'])\n",
    "Q1 = df['PAY_AMT2_cbrt'].quantile(0.25)\n",
    "Q3 = df['PAY_AMT2_cbrt'].quantile(0.75)\n",
    "IQR = Q3 - Q1\n",
    "lower_bound = Q1 - 1.5 * IQR\n",
    "upper_bound = Q3 + 1.5 * IQR\n",
    "df['PAY_AMT2_cbrt'] = df['PAY_AMT2_cbrt'].clip(lower=lower_bound, upper=upper_bound)\n",
    "df['PAY_AMT2_cbrt_binned'] = pd.qcut(df['PAY_AMT2_cbrt'], q=3, labels=['Low', 'Medium', 'High'])\n",
    "df['PAY_AMT2_cbrt_binned'] = df['PAY_AMT2_cbrt_binned'].replace({'Low': 1, 'Medium': 2, 'High': 3})\n",
    "# For column pay_Amt3\n",
    "df['PAY_AMT3']=pd.to_numeric(df['PAY_AMT3'],errors='coerce')\n",
    "df['PAY_AMT3_cbrt']=np.cbrt(df['PAY_AMT3'])\n",
    "Q1 = df['PAY_AMT3_cbrt'].quantile(0.25)\n",
    "Q3 = df['PAY_AMT3_cbrt'].quantile(0.75)\n",
    "IQR = Q3 - Q1\n",
    "lower_bound = Q1 - 1.5 * IQR\n",
    "upper_bound = Q3 + 1.5 * IQR\n",
    "df['PAY_AMT3_cbrt'] = df['PAY_AMT3_cbrt'].clip(lower=lower_bound, upper=upper_bound)\n",
    "df['PAY_AMT3_cbrt_binned'] = pd.qcut(df['PAY_AMT3_cbrt'], q=3, labels=['Low', 'Medium', 'High'])\n",
    "df['PAY_AMT3_cbrt_binned'] = df['PAY_AMT3_cbrt_binned'].replace({'Low': 1, 'Medium': 2, 'High': 3})\n",
    "# For column pay_Amt4\n",
    "df['PAY_AMT4']=pd.to_numeric(df['PAY_AMT4'],errors='coerce')\n",
    "df['PAY_AMT4_cbrt']=np.cbrt(df['PAY_AMT4'])\n",
    "Q1 = df['PAY_AMT4_cbrt'].quantile(0.25)\n",
    "Q3 = df['PAY_AMT4_cbrt'].quantile(0.75)\n",
    "IQR = Q3 - Q1\n",
    "lower_bound = Q1 - 1.5 * IQR\n",
    "upper_bound = Q3 + 1.5 * IQR\n",
    "df['PAY_AMT4_cbrt'] = df['PAY_AMT4_cbrt'].clip(lower=lower_bound, upper=upper_bound)\n",
    "df['PAY_AMT4_cbrt_binned'] = pd.qcut(df['PAY_AMT4_cbrt'], q=3, labels=['Low', 'Medium', 'High'])\n",
    "df['PAY_AMT4_cbrt_binned'] = df['PAY_AMT4_cbrt_binned'].replace({'Low': 1, 'Medium': 2, 'High': 3})\n",
    "# For column pay_Amt5\n",
    "df['PAY_AMT5']=pd.to_numeric(df['PAY_AMT5'],errors='coerce')\n",
    "df['PAY_AMT5_cbrt']=np.cbrt(df['PAY_AMT5'])\n",
    "Q1 = df['PAY_AMT5_cbrt'].quantile(0.25)\n",
    "Q3 = df['PAY_AMT5_cbrt'].quantile(0.75)\n",
    "IQR = Q3 - Q1\n",
    "lower_bound = Q1 - 1.5 * IQR\n",
    "upper_bound = Q3 + 1.5 * IQR\n",
    "df['PAY_AMT5_cbrt'] = df['PAY_AMT5_cbrt'].clip(lower=lower_bound, upper=upper_bound)\n",
    "df['PAY_AMT5_cbrt_binned'] = pd.qcut(df['PAY_AMT5_cbrt'], q=3, labels=['Low', 'Medium', 'High'])\n",
    "df['PAY_AMT5_cbrt_binned'] = df['PAY_AMT5_cbrt_binned'].replace({'Low': 1, 'Medium': 2, 'High': 3})\n",
    "# for column pay_Amt6\n",
    "df['PAY_AMT6']=pd.to_numeric(df['PAY_AMT6'],errors='coerce')\n",
    "df['PAY_AMT6_cbrt']=np.cbrt(df['PAY_AMT6'])\n",
    "Q1 = df['PAY_AMT6_cbrt'].quantile(0.25)\n",
    "Q3 = df['PAY_AMT6_cbrt'].quantile(0.75)\n",
    "IQR = Q3 - Q1\n",
    "lower_bound = Q1 - 1.5 * IQR\n",
    "upper_bound = Q3 + 1.5 * IQR\n",
    "df['PAY_AMT6_cbrt'] = df['PAY_AMT6_cbrt'].clip(lower=lower_bound, upper=upper_bound)\n",
    "df['PAY_AMT6_cbrt_binned'] = pd.qcut(df['PAY_AMT6_cbrt'], q=3, labels=['Low', 'Medium', 'High'])\n",
    "df['PAY_AMT6_cbrt_binned'] = df['PAY_AMT6_cbrt_binned'].replace({'Low': 1, 'Medium': 2, 'High': 3})\n",
    "# for column age\n",
    "df['AGE']=pd.to_numeric(df['AGE'],errors='coerce')\n",
    "df['AGE_sqrt']=np.sqrt(df['AGE'])\n",
    "Q1 = df['AGE_sqrt'].quantile(0.25)\n",
    "Q3 = df['AGE_sqrt'].quantile(0.75)\n",
    "IQR = Q3 - Q1\n",
    "lower_bound = Q1 - 1.5 * IQR\n",
    "upper_bound = Q3 + 1.5 * IQR\n",
    "df['AGE_sqrt'] = df['AGE_sqrt'].clip(lower=lower_bound, upper=upper_bound)"
   ]
  },
  {
   "cell_type": "code",
   "execution_count": 260,
   "id": "41462eab-f5b3-403d-badc-1ea22dcabc2a",
   "metadata": {},
   "outputs": [
    {
     "data": {
      "text/plain": [
       "Index(['LIMIT_BAL', 'SEX', 'EDUCATION', 'MARRIAGE', 'AGE', 'PAY_0', 'PAY_2',\n",
       "       'PAY_3', 'PAY_4', 'PAY_5', 'PAY_6', 'BILL_AMT1', 'BILL_AMT2',\n",
       "       'BILL_AMT3', 'BILL_AMT4', 'BILL_AMT5', 'BILL_AMT6', 'PAY_AMT1',\n",
       "       'PAY_AMT2', 'PAY_AMT3', 'PAY_AMT4', 'PAY_AMT5', 'PAY_AMT6',\n",
       "       'default payment next month', 'LIMIT_BAL_sqrt', 'BILL_AMT1_cbrt',\n",
       "       'BILL_AMT1_cbrt_binned', 'BILL_AMT2_cbrt', 'BILL_AMT2_cbrt_binned',\n",
       "       'BILL_AMT3_cbrt', 'BILL_AMT3_cbrt_binned', 'BILL_AMT4_cbrt',\n",
       "       'BILL_AMT4_cbrt_binned', 'BILL_AMT5_cbrt', 'BILL_AMT5_cbrt_binned',\n",
       "       'BILL_AMT6_cbrt', 'BILL_AMT6_cbrt_binned', 'PAY_AMT1_cbrt',\n",
       "       'PAY_AMT1_cbrt_binned', 'PAY_AMT2_cbrt', 'PAY_AMT2_cbrt_binned',\n",
       "       'PAY_AMT3_cbrt', 'PAY_AMT3_cbrt_binned', 'PAY_AMT4_cbrt',\n",
       "       'PAY_AMT4_cbrt_binned', 'PAY_AMT5_cbrt', 'PAY_AMT5_cbrt_binned',\n",
       "       'PAY_AMT6_cbrt', 'PAY_AMT6_cbrt_binned', 'AGE_sqrt'],\n",
       "      dtype='object', name=0)"
      ]
     },
     "execution_count": 260,
     "metadata": {},
     "output_type": "execute_result"
    }
   ],
   "source": [
    "df.columns"
   ]
  },
  {
   "cell_type": "markdown",
   "id": "7f517d1f-99db-4202-bcc9-ae771e287f79",
   "metadata": {},
   "source": [
    "# For Education column"
   ]
  },
  {
   "cell_type": "code",
   "execution_count": 261,
   "id": "2107814f-efdf-4dab-9872-e461e232ed72",
   "metadata": {},
   "outputs": [
    {
     "data": {
      "text/plain": [
       "EDUCATION\n",
       "2    14030\n",
       "1    10585\n",
       "3     4917\n",
       "5      280\n",
       "4      123\n",
       "6       51\n",
       "0       14\n",
       "Name: count, dtype: int64"
      ]
     },
     "execution_count": 261,
     "metadata": {},
     "output_type": "execute_result"
    }
   ],
   "source": [
    "df['EDUCATION'].value_counts()"
   ]
  },
  {
   "cell_type": "code",
   "execution_count": 262,
   "id": "0af21c73-d64d-4ec4-8a80-1230bb343584",
   "metadata": {},
   "outputs": [],
   "source": [
    "df['EDUCATION'] = df['EDUCATION'].replace([4, 5, 6, 0], 3)"
   ]
  },
  {
   "cell_type": "code",
   "execution_count": 263,
   "id": "df2a7e37-d88a-4c70-af19-fd9be3d9012c",
   "metadata": {},
   "outputs": [
    {
     "data": {
      "text/plain": [
       "EDUCATION\n",
       "2    14030\n",
       "1    10585\n",
       "3     5385\n",
       "Name: count, dtype: int64"
      ]
     },
     "execution_count": 263,
     "metadata": {},
     "output_type": "execute_result"
    }
   ],
   "source": [
    "df['EDUCATION'].value_counts()"
   ]
  },
  {
   "cell_type": "markdown",
   "id": "87bd1114-0aea-47c4-b78f-a13b8a8fa5fc",
   "metadata": {},
   "source": [
    "# For Marriage column"
   ]
  },
  {
   "cell_type": "code",
   "execution_count": 264,
   "id": "b3ccd03f-6c0e-40eb-8da4-f29896cd4aec",
   "metadata": {},
   "outputs": [
    {
     "data": {
      "text/plain": [
       "MARRIAGE\n",
       "2    15964\n",
       "1    13659\n",
       "3      323\n",
       "0       54\n",
       "Name: count, dtype: int64"
      ]
     },
     "execution_count": 264,
     "metadata": {},
     "output_type": "execute_result"
    }
   ],
   "source": [
    "df['MARRIAGE'].value_counts()"
   ]
  },
  {
   "cell_type": "code",
   "execution_count": 265,
   "id": "02ebc29c-62a6-43bc-a3c1-f7b9a7c2639c",
   "metadata": {},
   "outputs": [],
   "source": [
    "df['MARRIAGE'] = df['MARRIAGE'].replace([0], 3)"
   ]
  },
  {
   "cell_type": "code",
   "execution_count": 266,
   "id": "998ae357-b13a-4c17-abc9-4263206bed35",
   "metadata": {},
   "outputs": [
    {
     "data": {
      "text/plain": [
       "MARRIAGE\n",
       "2    15964\n",
       "1    13659\n",
       "3      377\n",
       "Name: count, dtype: int64"
      ]
     },
     "execution_count": 266,
     "metadata": {},
     "output_type": "execute_result"
    }
   ],
   "source": [
    "df['MARRIAGE'].value_counts()"
   ]
  },
  {
   "cell_type": "code",
   "execution_count": 267,
   "id": "e3f73865-d009-4fef-ad9f-e09c4035b04a",
   "metadata": {},
   "outputs": [
    {
     "data": {
      "text/plain": [
       "Index(['LIMIT_BAL', 'SEX', 'EDUCATION', 'MARRIAGE', 'AGE', 'PAY_0', 'PAY_2',\n",
       "       'PAY_3', 'PAY_4', 'PAY_5', 'PAY_6', 'BILL_AMT1', 'BILL_AMT2',\n",
       "       'BILL_AMT3', 'BILL_AMT4', 'BILL_AMT5', 'BILL_AMT6', 'PAY_AMT1',\n",
       "       'PAY_AMT2', 'PAY_AMT3', 'PAY_AMT4', 'PAY_AMT5', 'PAY_AMT6',\n",
       "       'default payment next month', 'LIMIT_BAL_sqrt', 'BILL_AMT1_cbrt',\n",
       "       'BILL_AMT1_cbrt_binned', 'BILL_AMT2_cbrt', 'BILL_AMT2_cbrt_binned',\n",
       "       'BILL_AMT3_cbrt', 'BILL_AMT3_cbrt_binned', 'BILL_AMT4_cbrt',\n",
       "       'BILL_AMT4_cbrt_binned', 'BILL_AMT5_cbrt', 'BILL_AMT5_cbrt_binned',\n",
       "       'BILL_AMT6_cbrt', 'BILL_AMT6_cbrt_binned', 'PAY_AMT1_cbrt',\n",
       "       'PAY_AMT1_cbrt_binned', 'PAY_AMT2_cbrt', 'PAY_AMT2_cbrt_binned',\n",
       "       'PAY_AMT3_cbrt', 'PAY_AMT3_cbrt_binned', 'PAY_AMT4_cbrt',\n",
       "       'PAY_AMT4_cbrt_binned', 'PAY_AMT5_cbrt', 'PAY_AMT5_cbrt_binned',\n",
       "       'PAY_AMT6_cbrt', 'PAY_AMT6_cbrt_binned', 'AGE_sqrt'],\n",
       "      dtype='object', name=0)"
      ]
     },
     "execution_count": 267,
     "metadata": {},
     "output_type": "execute_result"
    }
   ],
   "source": [
    "df.columns"
   ]
  },
  {
   "cell_type": "code",
   "execution_count": 268,
   "id": "9c7d0228-963d-4465-bee0-c54e2de6147d",
   "metadata": {},
   "outputs": [],
   "source": [
    "df.drop(columns=['LIMIT_BAL','AGE','BILL_AMT1', 'BILL_AMT2','BILL_AMT3', 'BILL_AMT4', 'BILL_AMT5', 'BILL_AMT6', 'PAY_AMT1',\n",
    "       'PAY_AMT2', 'PAY_AMT3', 'PAY_AMT4', 'PAY_AMT5', 'PAY_AMT6','BILL_AMT1_cbrt','BILL_AMT2_cbrt','BILL_AMT3_cbrt','BILL_AMT4_cbrt','BILL_AMT5_cbrt',\n",
    "            'BILL_AMT6_cbrt','PAY_AMT1_cbrt','PAY_AMT2_cbrt','PAY_AMT3_cbrt','PAY_AMT4_cbrt','PAY_AMT5_cbrt','PAY_AMT6_cbrt'],axis=1,inplace=True)"
   ]
  },
  {
   "cell_type": "code",
   "execution_count": 269,
   "id": "4a4a758b-83e1-49b7-9ea1-1d12322f075c",
   "metadata": {},
   "outputs": [
    {
     "name": "stdout",
     "output_type": "stream",
     "text": [
      "Index(['SEX', 'EDUCATION', 'MARRIAGE', 'PAY_0', 'PAY_2', 'PAY_3', 'PAY_4',\n",
      "       'PAY_5', 'PAY_6', 'default payment next month', 'LIMIT_BAL_sqrt',\n",
      "       'BILL_AMT1_cbrt_binned', 'BILL_AMT2_cbrt_binned',\n",
      "       'BILL_AMT3_cbrt_binned', 'BILL_AMT4_cbrt_binned',\n",
      "       'BILL_AMT5_cbrt_binned', 'BILL_AMT6_cbrt_binned',\n",
      "       'PAY_AMT1_cbrt_binned', 'PAY_AMT2_cbrt_binned', 'PAY_AMT3_cbrt_binned',\n",
      "       'PAY_AMT4_cbrt_binned', 'PAY_AMT5_cbrt_binned', 'PAY_AMT6_cbrt_binned',\n",
      "       'AGE_sqrt'],\n",
      "      dtype='object', name=0)\n",
      "24\n"
     ]
    }
   ],
   "source": [
    "print(df.columns)\n",
    "print(df.shape[1])"
   ]
  },
  {
   "cell_type": "code",
   "execution_count": 270,
   "id": "367e4f24-6d70-4a72-bf29-8a115dbc9782",
   "metadata": {},
   "outputs": [
    {
     "name": "stdout",
     "output_type": "stream",
     "text": [
      "[141.42135624 346.41016151 300.         223.60679775 707.10678119\n",
      " 316.22776602 374.16573868 447.2135955  509.90195136 793.72539332\n",
      " 264.57513111 500.         565.68542495 600.         424.26406871\n",
      " 360.55512755 670.82039325 244.94897428 479.58315233 400.\n",
      " 529.15026221 100.         200.         458.2575695  387.29833462\n",
      " 616.4414003  556.77643628 632.45553203 282.84271247 538.51648071\n",
      " 583.09518948 547.72255751 173.20508076 489.89794856 685.56546004\n",
      " 692.82032303 591.60797831 574.45626465 331.66247904 648.07406984\n",
      " 412.31056256 608.27625303 519.61524227 469.04157598 435.88989435\n",
      " 714.14284285 678.23299831 663.32495807 640.31242374 700.\n",
      " 624.49979984 761.57731059 774.59666924 787.4007874  781.02496759\n",
      " 836.66002653 818.53527719 824.62112512 655.74385243 741.61984871\n",
      " 734.84692283 889.33467477 728.01098893 842.61497732 748.33147735\n",
      " 721.11025509 866.02540378 800.         126.49110641 754.98344353\n",
      " 768.11457479 812.40384046 848.52813742 572.43340224 860.2325267\n",
      " 871.77978871 830.66238629 806.22577483 883.17608663 854.40037453]\n",
      "80\n"
     ]
    }
   ],
   "source": [
    "print(df['LIMIT_BAL_sqrt'].unique())\n",
    "print(df['LIMIT_BAL_sqrt'].nunique())"
   ]
  },
  {
   "cell_type": "code",
   "execution_count": 271,
   "id": "b08e2f3a-a56d-4775-b344-9eec24b6b125",
   "metadata": {},
   "outputs": [
    {
     "data": {
      "text/plain": [
       "0.4623696582201454"
      ]
     },
     "execution_count": 271,
     "metadata": {},
     "output_type": "execute_result"
    }
   ],
   "source": [
    "df['AGE_sqrt'].skew()"
   ]
  },
  {
   "cell_type": "code",
   "execution_count": 272,
   "id": "58cee4dc-e685-43d3-b50b-f0de09f8566f",
   "metadata": {},
   "outputs": [
    {
     "data": {
      "text/plain": [
       "0.2758470986387945"
      ]
     },
     "execution_count": 272,
     "metadata": {},
     "output_type": "execute_result"
    }
   ],
   "source": [
    "df['LIMIT_BAL_sqrt'].skew()"
   ]
  },
  {
   "cell_type": "code",
   "execution_count": 273,
   "id": "d4523b54-5b9d-4e39-be02-a39f9c5e8fb3",
   "metadata": {},
   "outputs": [
    {
     "name": "stdout",
     "output_type": "stream",
     "text": [
      "category\n",
      "category\n"
     ]
    }
   ],
   "source": [
    "df['EDUCATION'] = df['EDUCATION'].astype('category')\n",
    "df['MARRIAGE'] = df['MARRIAGE'].astype('category')\n",
    "print(df['EDUCATION'].dtype)  \n",
    "print(df['MARRIAGE'].dtype) "
   ]
  },
  {
   "cell_type": "code",
   "execution_count": 274,
   "id": "9e48d939-8315-45a5-84ad-4a1ce4956d23",
   "metadata": {},
   "outputs": [
    {
     "name": "stdout",
     "output_type": "stream",
     "text": [
      "Numerical: ['LIMIT_BAL_sqrt', 'AGE_sqrt']\n",
      "Categorical: ['SEX', 'EDUCATION', 'MARRIAGE', 'PAY_0', 'PAY_2', 'PAY_3', 'PAY_4', 'PAY_5', 'PAY_6', 'default payment next month', 'BILL_AMT1_cbrt_binned', 'BILL_AMT2_cbrt_binned', 'BILL_AMT3_cbrt_binned', 'BILL_AMT4_cbrt_binned', 'BILL_AMT5_cbrt_binned', 'BILL_AMT6_cbrt_binned', 'PAY_AMT1_cbrt_binned', 'PAY_AMT2_cbrt_binned', 'PAY_AMT3_cbrt_binned', 'PAY_AMT4_cbrt_binned', 'PAY_AMT5_cbrt_binned', 'PAY_AMT6_cbrt_binned']\n",
      "Boolean: []\n",
      "Datetime: []\n"
     ]
    },
    {
     "name": "stderr",
     "output_type": "stream",
     "text": [
      "C:\\Users\\Laptops\\AppData\\Local\\Temp\\ipykernel_13432\\484099026.py:13: DeprecationWarning: is_categorical_dtype is deprecated and will be removed in a future version. Use isinstance(dtype, pd.CategoricalDtype) instead\n",
      "  elif pd.api.types.is_categorical_dtype(df[column]) or pd.api.types.is_object_dtype(df[column]):\n"
     ]
    }
   ],
   "source": [
    "import pandas as pd\n",
    "column_types = {\n",
    "    'Numerical': [],\n",
    "    'Categorical': [],\n",
    "    'Boolean': [],\n",
    "    'Datetime': []\n",
    "}\n",
    "\n",
    "# Iterate through each column and classify based on data type\n",
    "for column in df.columns:\n",
    "    if pd.api.types.is_numeric_dtype(df[column]):\n",
    "        column_types['Numerical'].append(column)\n",
    "    elif pd.api.types.is_categorical_dtype(df[column]) or pd.api.types.is_object_dtype(df[column]):\n",
    "        column_types['Categorical'].append(column)\n",
    "    elif pd.api.types.is_bool_dtype(df[column]):\n",
    "        column_types['Boolean'].append(column)\n",
    "    elif pd.api.types.is_datetime64_any_dtype(df[column]):\n",
    "        column_types['Datetime'].append(column)\n",
    "\n",
    "for col_type, cols in column_types.items():\n",
    "    print(f\"{col_type}: {cols}\")"
   ]
  },
  {
   "cell_type": "code",
   "execution_count": 275,
   "id": "4b7e982f-0465-4075-8da1-4a72fb658c33",
   "metadata": {},
   "outputs": [
    {
     "data": {
      "text/plain": [
       "Index(['SEX', 'EDUCATION', 'MARRIAGE', 'PAY_0', 'PAY_2', 'PAY_3', 'PAY_4',\n",
       "       'PAY_5', 'PAY_6', 'default payment next month', 'LIMIT_BAL_sqrt',\n",
       "       'BILL_AMT1_cbrt_binned', 'BILL_AMT2_cbrt_binned',\n",
       "       'BILL_AMT3_cbrt_binned', 'BILL_AMT4_cbrt_binned',\n",
       "       'BILL_AMT5_cbrt_binned', 'BILL_AMT6_cbrt_binned',\n",
       "       'PAY_AMT1_cbrt_binned', 'PAY_AMT2_cbrt_binned', 'PAY_AMT3_cbrt_binned',\n",
       "       'PAY_AMT4_cbrt_binned', 'PAY_AMT5_cbrt_binned', 'PAY_AMT6_cbrt_binned',\n",
       "       'AGE_sqrt'],\n",
       "      dtype='object', name=0)"
      ]
     },
     "execution_count": 275,
     "metadata": {},
     "output_type": "execute_result"
    }
   ],
   "source": [
    "df.columns"
   ]
  },
  {
   "cell_type": "code",
   "execution_count": 276,
   "id": "318db8e6-0b56-472c-94c3-bfaee1243808",
   "metadata": {},
   "outputs": [
    {
     "data": {
      "text/plain": [
       "24"
      ]
     },
     "execution_count": 276,
     "metadata": {},
     "output_type": "execute_result"
    }
   ],
   "source": [
    "df.shape[1]"
   ]
  },
  {
   "cell_type": "code",
   "execution_count": 277,
   "id": "69dcf18e-4e9b-4c0e-bce8-beba5f6342aa",
   "metadata": {},
   "outputs": [
    {
     "data": {
      "text/plain": [
       "[2, 1, 3]\n",
       "Categories (3, int64): [1, 2, 3]"
      ]
     },
     "execution_count": 277,
     "metadata": {},
     "output_type": "execute_result"
    }
   ],
   "source": [
    "df['EDUCATION'].unique()"
   ]
  },
  {
   "cell_type": "code",
   "execution_count": 204,
   "id": "113646e3-7c03-4e1a-a42a-95ac643cceb8",
   "metadata": {},
   "outputs": [
    {
     "data": {
      "text/plain": [
       "Index(['SEX', 'EDUCATION', 'MARRIAGE', 'PAY_0', 'PAY_2', 'PAY_3', 'PAY_4',\n",
       "       'PAY_5', 'PAY_6', 'default payment next month', 'LIMIT_BAL_sqrt',\n",
       "       'BILL_AMT1_cbrt_binned', 'BILL_AMT2_cbrt_binned',\n",
       "       'BILL_AMT3_cbrt_binned', 'BILL_AMT4_cbrt_binned',\n",
       "       'BILL_AMT5_cbrt_binned', 'BILL_AMT6_cbrt_binned',\n",
       "       'PAY_AMT1_cbrt_binned', 'PAY_AMT2_cbrt_binned', 'PAY_AMT3_cbrt_binned',\n",
       "       'PAY_AMT4_cbrt_binned', 'PAY_AMT5_cbrt_binned', 'PAY_AMT6_cbrt_binned',\n",
       "       'AGE_sqrt'],\n",
       "      dtype='object', name=0)"
      ]
     },
     "execution_count": 204,
     "metadata": {},
     "output_type": "execute_result"
    }
   ],
   "source": [
    "df.columns"
   ]
  },
  {
   "cell_type": "code",
   "execution_count": 278,
   "id": "5ee9a000-ad8c-4220-b285-2b66f0d404d5",
   "metadata": {},
   "outputs": [],
   "source": [
    "from sklearn.preprocessing import LabelEncoder\n",
    "le = LabelEncoder()\n",
    "df['EDUCATION'] = le.fit_transform(df['EDUCATION'])"
   ]
  },
  {
   "cell_type": "code",
   "execution_count": 279,
   "id": "37294767-475b-4204-bf1b-6dd22e190680",
   "metadata": {},
   "outputs": [
    {
     "data": {
      "text/plain": [
       "Index(['SEX', 'EDUCATION', 'MARRIAGE', 'PAY_0', 'PAY_2', 'PAY_3', 'PAY_4',\n",
       "       'PAY_5', 'PAY_6', 'default payment next month', 'LIMIT_BAL_sqrt',\n",
       "       'BILL_AMT1_cbrt_binned', 'BILL_AMT2_cbrt_binned',\n",
       "       'BILL_AMT3_cbrt_binned', 'BILL_AMT4_cbrt_binned',\n",
       "       'BILL_AMT5_cbrt_binned', 'BILL_AMT6_cbrt_binned',\n",
       "       'PAY_AMT1_cbrt_binned', 'PAY_AMT2_cbrt_binned', 'PAY_AMT3_cbrt_binned',\n",
       "       'PAY_AMT4_cbrt_binned', 'PAY_AMT5_cbrt_binned', 'PAY_AMT6_cbrt_binned',\n",
       "       'AGE_sqrt'],\n",
       "      dtype='object', name=0)"
      ]
     },
     "execution_count": 279,
     "metadata": {},
     "output_type": "execute_result"
    }
   ],
   "source": [
    "df.columns"
   ]
  },
  {
   "cell_type": "code",
   "execution_count": 280,
   "id": "a437d806-ff9c-4eef-9905-3df049cbc63e",
   "metadata": {},
   "outputs": [
    {
     "data": {
      "text/plain": [
       "array([2, 1], dtype=object)"
      ]
     },
     "execution_count": 280,
     "metadata": {},
     "output_type": "execute_result"
    }
   ],
   "source": [
    "df['SEX'].unique()"
   ]
  },
  {
   "cell_type": "code",
   "execution_count": 281,
   "id": "53989bc2-baad-4b5e-be2c-7d9a26f9a622",
   "metadata": {},
   "outputs": [
    {
     "data": {
      "text/plain": [
       "array([1, 0], dtype=object)"
      ]
     },
     "execution_count": 281,
     "metadata": {},
     "output_type": "execute_result"
    }
   ],
   "source": [
    "df['default payment next month'].unique()"
   ]
  },
  {
   "cell_type": "code",
   "execution_count": 282,
   "id": "5d73c5a2-51a9-4fe6-9e5e-27f35e8814ef",
   "metadata": {},
   "outputs": [],
   "source": [
    "df = pd.get_dummies(df, columns=['SEX', 'default payment next month'], drop_first=True)"
   ]
  },
  {
   "cell_type": "code",
   "execution_count": 283,
   "id": "18de5a19-76f2-4828-bf97-bc9691798f95",
   "metadata": {},
   "outputs": [
    {
     "data": {
      "text/plain": [
       "Index(['EDUCATION', 'MARRIAGE', 'PAY_0', 'PAY_2', 'PAY_3', 'PAY_4', 'PAY_5',\n",
       "       'PAY_6', 'LIMIT_BAL_sqrt', 'BILL_AMT1_cbrt_binned',\n",
       "       'BILL_AMT2_cbrt_binned', 'BILL_AMT3_cbrt_binned',\n",
       "       'BILL_AMT4_cbrt_binned', 'BILL_AMT5_cbrt_binned',\n",
       "       'BILL_AMT6_cbrt_binned', 'PAY_AMT1_cbrt_binned', 'PAY_AMT2_cbrt_binned',\n",
       "       'PAY_AMT3_cbrt_binned', 'PAY_AMT4_cbrt_binned', 'PAY_AMT5_cbrt_binned',\n",
       "       'PAY_AMT6_cbrt_binned', 'AGE_sqrt', 'SEX_2',\n",
       "       'default payment next month_1'],\n",
       "      dtype='object')"
      ]
     },
     "execution_count": 283,
     "metadata": {},
     "output_type": "execute_result"
    }
   ],
   "source": [
    "df.columns"
   ]
  },
  {
   "cell_type": "code",
   "execution_count": 284,
   "id": "7f89387a-eeef-4b24-a955-229a7eec39bf",
   "metadata": {},
   "outputs": [
    {
     "name": "stdout",
     "output_type": "stream",
     "text": [
      "[141.42135624 346.41016151 300.         223.60679775 707.10678119\n",
      " 316.22776602 374.16573868 447.2135955  509.90195136 793.72539332\n",
      " 264.57513111 500.         565.68542495 600.         424.26406871\n",
      " 360.55512755 670.82039325 244.94897428 479.58315233 400.\n",
      " 529.15026221 100.         200.         458.2575695  387.29833462\n",
      " 616.4414003  556.77643628 632.45553203 282.84271247 538.51648071\n",
      " 583.09518948 547.72255751 173.20508076 489.89794856 685.56546004\n",
      " 692.82032303 591.60797831 574.45626465 331.66247904 648.07406984\n",
      " 412.31056256 608.27625303 519.61524227 469.04157598 435.88989435\n",
      " 714.14284285 678.23299831 663.32495807 640.31242374 700.\n",
      " 624.49979984 761.57731059 774.59666924 787.4007874  781.02496759\n",
      " 836.66002653 818.53527719 824.62112512 655.74385243 741.61984871\n",
      " 734.84692283 889.33467477 728.01098893 842.61497732 748.33147735\n",
      " 721.11025509 866.02540378 800.         126.49110641 754.98344353\n",
      " 768.11457479 812.40384046 848.52813742 572.43340224 860.2325267\n",
      " 871.77978871 830.66238629 806.22577483 883.17608663 854.40037453]\n",
      "80\n"
     ]
    }
   ],
   "source": [
    "print(df['LIMIT_BAL_sqrt'].unique())\n",
    "print(df['LIMIT_BAL_sqrt'].nunique())"
   ]
  },
  {
   "cell_type": "code",
   "execution_count": 286,
   "id": "c634a555-c255-413b-934a-d9231a7e0ad8",
   "metadata": {},
   "outputs": [
    {
     "name": "stdout",
     "output_type": "stream",
     "text": [
      "[4.89897949 5.09901951 5.83095189 6.08276253 7.54983444 5.38516481\n",
      " 4.79583152 5.29150262 5.91607978 7.14142843 6.40312424 5.47722558\n",
      " 7.         6.244998   6.32455532 5.19615242 6.8556546  5.74456265\n",
      " 5.65685425 7.34846923 7.61577311 4.69041576 5.         5.56776436\n",
      " 6.78232998 6.4807407  6.55743852 6.70820393 7.48331477 6.63324958\n",
      " 7.28010989 6.164414   7.93725393 6.         7.21110255 6.92820323\n",
      " 7.41619849 7.74596669 7.07106781 8.07055666 7.81024968 7.68114575\n",
      " 4.58257569 7.87400787 8.         8.06225775]\n",
      "46\n"
     ]
    }
   ],
   "source": [
    "print(df['AGE_sqrt'].unique())\n",
    "print(df['AGE_sqrt'].nunique())"
   ]
  },
  {
   "cell_type": "code",
   "execution_count": 213,
   "id": "6562411c-9775-4ecd-bff4-eaa998e99fb8",
   "metadata": {},
   "outputs": [
    {
     "data": {
      "text/plain": [
       "Index(['EDUCATION', 'MARRIAGE', 'PAY_0', 'PAY_2', 'PAY_3', 'PAY_4', 'PAY_5',\n",
       "       'PAY_6', 'LIMIT_BAL_sqrt', 'BILL_AMT1_cbrt_binned',\n",
       "       'BILL_AMT2_cbrt_binned', 'BILL_AMT3_cbrt_binned',\n",
       "       'BILL_AMT4_cbrt_binned', 'BILL_AMT5_cbrt_binned',\n",
       "       'BILL_AMT6_cbrt_binned', 'PAY_AMT1_cbrt_binned', 'PAY_AMT2_cbrt_binned',\n",
       "       'PAY_AMT3_cbrt_binned', 'PAY_AMT4_cbrt_binned', 'PAY_AMT5_cbrt_binned',\n",
       "       'PAY_AMT6_cbrt_binned', 'AGE_sqrt', 'SEX_2',\n",
       "       'default payment next month_1'],\n",
       "      dtype='object')"
      ]
     },
     "execution_count": 213,
     "metadata": {},
     "output_type": "execute_result"
    }
   ],
   "source": [
    "df.columns"
   ]
  },
  {
   "cell_type": "code",
   "execution_count": 288,
   "id": "908b6513-04f3-4bfb-88c5-bd1e8c341ed9",
   "metadata": {},
   "outputs": [
    {
     "data": {
      "text/plain": [
       "Index(['EDUCATION', 'MARRIAGE', 'PAY_0', 'PAY_2', 'PAY_3', 'PAY_4', 'PAY_5',\n",
       "       'PAY_6', 'LIMIT_BAL_sqrt', 'BILL_AMT1_cbrt_binned',\n",
       "       'BILL_AMT2_cbrt_binned', 'BILL_AMT3_cbrt_binned',\n",
       "       'BILL_AMT4_cbrt_binned', 'BILL_AMT5_cbrt_binned',\n",
       "       'BILL_AMT6_cbrt_binned', 'PAY_AMT1_cbrt_binned', 'PAY_AMT2_cbrt_binned',\n",
       "       'PAY_AMT3_cbrt_binned', 'PAY_AMT4_cbrt_binned', 'PAY_AMT5_cbrt_binned',\n",
       "       'PAY_AMT6_cbrt_binned', 'AGE_sqrt', 'SEX_2',\n",
       "       'default payment next month_1'],\n",
       "      dtype='object')"
      ]
     },
     "execution_count": 288,
     "metadata": {},
     "output_type": "execute_result"
    }
   ],
   "source": [
    "df.columns"
   ]
  },
  {
   "cell_type": "code",
   "execution_count": 223,
   "id": "6e23c049-c59e-4804-80ee-507e1b44af0c",
   "metadata": {},
   "outputs": [],
   "source": [
    "categorical_columns = [col for col in categorical_columns if col != 'default payment next month']\n"
   ]
  },
  {
   "cell_type": "code",
   "execution_count": 224,
   "id": "38021d32-545b-4ecc-94b0-388e5ea1ee21",
   "metadata": {},
   "outputs": [],
   "source": [
    "y_train = y_train.astype('category')\n",
    "y_test = y_test.astype('category')\n"
   ]
  },
  {
   "cell_type": "code",
   "execution_count": 225,
   "id": "9b7bd54a-99df-4dd4-9e9f-644a095dba45",
   "metadata": {},
   "outputs": [],
   "source": [
    "from sklearn.preprocessing import StandardScaler\n",
    "scaler = StandardScaler()\n",
    "df[['LIMIT_BAL_sqrt', 'AGE_sqrt']] = scaler.fit_transform(df[['LIMIT_BAL_sqrt', 'AGE_sqrt']])"
   ]
  },
  {
   "cell_type": "code",
   "execution_count": 226,
   "id": "923fc713-85e4-4d50-86b4-da3e0f146707",
   "metadata": {},
   "outputs": [
    {
     "data": {
      "text/plain": [
       "Index(['EDUCATION', 'MARRIAGE', 'PAY_0', 'PAY_2', 'PAY_3', 'PAY_4', 'PAY_5',\n",
       "       'PAY_6', 'LIMIT_BAL_sqrt', 'BILL_AMT1_cbrt_binned',\n",
       "       'BILL_AMT2_cbrt_binned', 'BILL_AMT3_cbrt_binned',\n",
       "       'BILL_AMT4_cbrt_binned', 'BILL_AMT5_cbrt_binned',\n",
       "       'BILL_AMT6_cbrt_binned', 'PAY_AMT1_cbrt_binned', 'PAY_AMT2_cbrt_binned',\n",
       "       'PAY_AMT3_cbrt_binned', 'PAY_AMT4_cbrt_binned', 'PAY_AMT5_cbrt_binned',\n",
       "       'PAY_AMT6_cbrt_binned', 'AGE_sqrt', 'SEX_2',\n",
       "       'default payment next month_1'],\n",
       "      dtype='object')"
      ]
     },
     "execution_count": 226,
     "metadata": {},
     "output_type": "execute_result"
    }
   ],
   "source": [
    "df.columns"
   ]
  },
  {
   "cell_type": "code",
   "execution_count": null,
   "id": "e9d3a793-54a5-4acd-9274-1798ddfb92de",
   "metadata": {},
   "outputs": [],
   "source": []
  },
  {
   "cell_type": "code",
   "execution_count": 227,
   "id": "ed1a5e3b-2914-4e59-a66a-7399eb60526e",
   "metadata": {},
   "outputs": [],
   "source": [
    "from sklearn.model_selection import train_test_split\n",
    "X = df.drop('default payment next month_1', axis=1)\n",
    "y = df['default payment next month_1']\n",
    "X_train, X_test, y_train, y_test = train_test_split(X, y, test_size=0.3, random_state=42)"
   ]
  },
  {
   "cell_type": "code",
   "execution_count": 228,
   "id": "40815502-7245-4350-8065-d04a28f9aacb",
   "metadata": {},
   "outputs": [
    {
     "name": "stdout",
     "output_type": "stream",
     "text": [
      "EDUCATION                   int64\n",
      "MARRIAGE                 category\n",
      "PAY_0                      object\n",
      "PAY_2                      object\n",
      "PAY_3                      object\n",
      "PAY_4                      object\n",
      "PAY_5                      object\n",
      "PAY_6                      object\n",
      "LIMIT_BAL_sqrt            float64\n",
      "BILL_AMT1_cbrt_binned    category\n",
      "BILL_AMT2_cbrt_binned    category\n",
      "BILL_AMT3_cbrt_binned    category\n",
      "BILL_AMT4_cbrt_binned    category\n",
      "BILL_AMT5_cbrt_binned    category\n",
      "BILL_AMT6_cbrt_binned    category\n",
      "PAY_AMT1_cbrt_binned     category\n",
      "PAY_AMT2_cbrt_binned     category\n",
      "PAY_AMT3_cbrt_binned     category\n",
      "PAY_AMT4_cbrt_binned     category\n",
      "PAY_AMT5_cbrt_binned     category\n",
      "PAY_AMT6_cbrt_binned     category\n",
      "AGE_sqrt                  float64\n",
      "SEX_2                        bool\n",
      "dtype: object\n"
     ]
    }
   ],
   "source": [
    "print(X_train.dtypes)"
   ]
  },
  {
   "cell_type": "code",
   "execution_count": 230,
   "id": "7475d793-c0a8-48b4-a864-462685de0b63",
   "metadata": {},
   "outputs": [],
   "source": [
    "object_columns = ['PAY_0', 'PAY_2', 'PAY_3', 'PAY_4', 'PAY_5', 'PAY_6']\n",
    "for col in object_columns:\n",
    "    X_train[col] = pd.to_numeric(X_train[col], errors='coerce')"
   ]
  },
  {
   "cell_type": "code",
   "execution_count": 231,
   "id": "bd2d398f-cf9f-42ea-8991-6f4d01ef6c85",
   "metadata": {},
   "outputs": [],
   "source": [
    "X_train['SEX_2'] = X_train['SEX_2'].astype(int)"
   ]
  },
  {
   "cell_type": "code",
   "execution_count": 232,
   "id": "50b7c933-86f0-4809-b91e-d8be835ae081",
   "metadata": {},
   "outputs": [
    {
     "name": "stdout",
     "output_type": "stream",
     "text": [
      "EDUCATION                   int64\n",
      "MARRIAGE                 category\n",
      "PAY_0                       int64\n",
      "PAY_2                       int64\n",
      "PAY_3                       int64\n",
      "PAY_4                       int64\n",
      "PAY_5                       int64\n",
      "PAY_6                       int64\n",
      "LIMIT_BAL_sqrt            float64\n",
      "BILL_AMT1_cbrt_binned    category\n",
      "BILL_AMT2_cbrt_binned    category\n",
      "BILL_AMT3_cbrt_binned    category\n",
      "BILL_AMT4_cbrt_binned    category\n",
      "BILL_AMT5_cbrt_binned    category\n",
      "BILL_AMT6_cbrt_binned    category\n",
      "PAY_AMT1_cbrt_binned     category\n",
      "PAY_AMT2_cbrt_binned     category\n",
      "PAY_AMT3_cbrt_binned     category\n",
      "PAY_AMT4_cbrt_binned     category\n",
      "PAY_AMT5_cbrt_binned     category\n",
      "PAY_AMT6_cbrt_binned     category\n",
      "AGE_sqrt                  float64\n",
      "SEX_2                       int32\n",
      "dtype: object\n"
     ]
    }
   ],
   "source": [
    "print(X_train.dtypes)"
   ]
  },
  {
   "cell_type": "code",
   "execution_count": 233,
   "id": "2fa19c22-5e8b-4124-9104-33eb66990442",
   "metadata": {},
   "outputs": [],
   "source": [
    "from sklearn.linear_model import LogisticRegression\n",
    "from sklearn.tree import DecisionTreeClassifier\n",
    "from sklearn.ensemble import RandomForestClassifier\n",
    "from xgboost import XGBClassifier\n",
    "from sklearn.svm import SVC\n",
    "from sklearn.neighbors import KNeighborsClassifier\n",
    "from sklearn.naive_bayes import GaussianNB\n"
   ]
  },
  {
   "cell_type": "code",
   "execution_count": 237,
   "id": "7f8f3063-6aa5-4470-a226-1c569cf747c7",
   "metadata": {},
   "outputs": [],
   "source": [
    "models = {\n",
    "    \"Logistic Regression\": LogisticRegression(random_state=42),\n",
    "    \"Decision Tree\": DecisionTreeClassifier(random_state=42),\n",
    "    \"Random Forest\": RandomForestClassifier(random_state=42),\n",
    "    \"XGBoost\": XGBClassifier(random_state=42,enable_categorical=True),\n",
    "    \"SVM\": SVC(probability=True, random_state=42),\n",
    "    \"KNN\": KNeighborsClassifier(),\n",
    "    \"Naive Bayes\": GaussianNB()\n",
    "}\n"
   ]
  },
  {
   "cell_type": "code",
   "execution_count": 242,
   "id": "3a59aad3-3f06-4ebe-ad82-8081124084aa",
   "metadata": {},
   "outputs": [
    {
     "name": "stdout",
     "output_type": "stream",
     "text": [
      "Model: Logistic Regression\n",
      "Accuracy: 0.807\n",
      "Precision: 0.6512890094979648\n",
      "Recall: 0.24489795918367346\n",
      "F1 Score: 0.3559510567296997\n",
      "AUC Score: 0.7410351924860854\n",
      "\n",
      "\n",
      "Model: Decision Tree\n",
      "Accuracy: 0.7193333333333334\n",
      "Precision: 0.3720614828209765\n",
      "Recall: 0.41989795918367345\n",
      "F1 Score: 0.39453499520613616\n",
      "AUC Score: 0.610959459067718\n",
      "\n",
      "\n",
      "Model: Random Forest\n",
      "Accuracy: 0.806\n",
      "Precision: 0.5903716216216216\n",
      "Recall: 0.3566326530612245\n",
      "F1 Score: 0.4446564885496183\n",
      "AUC Score: 0.745496108244434\n",
      "\n",
      "\n",
      "Model: XGBoost\n",
      "Accuracy: 0.812\n",
      "Precision: 0.6175438596491228\n",
      "Recall: 0.35918367346938773\n",
      "F1 Score: 0.4541935483870968\n",
      "AUC Score: 0.7501592575950835\n",
      "\n",
      "\n",
      "Model: SVM\n",
      "Accuracy: 0.8205555555555556\n",
      "Precision: 0.6740665993945509\n",
      "Recall: 0.3408163265306122\n",
      "F1 Score: 0.45272788885123677\n",
      "AUC Score: 0.7073694776205938\n",
      "\n",
      "\n",
      "Model: KNN\n",
      "Accuracy: 0.7934444444444444\n",
      "Precision: 0.5385202135774219\n",
      "Recall: 0.36020408163265305\n",
      "F1 Score: 0.4316722714766127\n",
      "AUC Score: 0.7095486433209648\n",
      "\n",
      "\n",
      "Model: Naive Bayes\n",
      "Accuracy: 0.7935555555555556\n",
      "Precision: 0.5307228915662651\n",
      "Recall: 0.44948979591836735\n",
      "F1 Score: 0.48674033149171275\n",
      "AUC Score: 0.7455559340213358\n",
      "\n",
      "\n"
     ]
    }
   ],
   "source": [
    "from sklearn.metrics import accuracy_score, precision_score, recall_score, f1_score, roc_auc_score\n",
    "\n",
    "# To store the results of each model\n",
    "results = {}\n",
    "\n",
    "# Loop through models\n",
    "for name, model in models.items():\n",
    "    # Train the model\n",
    "    model.fit(X_train, y_train)\n",
    "    \n",
    "    # Make predictions\n",
    "    y_pred = model.predict(X_test)\n",
    "    y_proba = model.predict_proba(X_test)[:, 1]\n",
    "    \n",
    "    # Evaluate performance\n",
    "    accuracy = accuracy_score(y_test, y_pred)\n",
    "    precision = precision_score(y_test, y_pred)\n",
    "    recall = recall_score(y_test, y_pred)\n",
    "    f1 = f1_score(y_test, y_pred)\n",
    "    auc = roc_auc_score(y_test, y_proba)\n",
    "    \n",
    "    # Store results\n",
    "    results[name] = {\n",
    "        \"Accuracy\": accuracy,\n",
    "        \"Precision\": precision,\n",
    "        \"Recall\": recall,\n",
    "        \"F1 Score\": f1,\n",
    "        \"AUC Score\": auc\n",
    "    }\n",
    "\n",
    "# Print the results\n",
    "for model_name, metrics in results.items():\n",
    "    print(f\"Model: {model_name}\")\n",
    "    for metric, score in metrics.items():\n",
    "        print(f\"{metric}: {score}\")\n",
    "    print(\"\\n\")\n"
   ]
  },
  {
   "cell_type": "code",
   "execution_count": 246,
   "id": "191ad276-eed8-4dc4-8ade-b7988d83f323",
   "metadata": {},
   "outputs": [],
   "source": [
    "from sklearn.impute import SimpleImputer\n",
    "from sklearn.pipeline import make_pipeline\n",
    "\n",
    "# Create an imputer for missing values\n",
    "imputer = SimpleImputer(strategy='mean')  # You can use other strategies like 'median' or 'most_frequent'\n",
    "\n",
    "# Define the models\n",
    "model1 = make_pipeline(imputer, LogisticRegression())\n",
    "model2 = make_pipeline(imputer, RandomForestClassifier())\n",
    "model3 = make_pipeline(imputer, SVC(probability=True))\n",
    "\n",
    "# Create a voting classifier\n",
    "voting_clf = VotingClassifier(estimators=[\n",
    "    ('lr', model1), ('rf', model2), ('svc', model3)],\n",
    "    voting='soft')\n",
    "\n",
    "# Fit the ensemble model\n",
    "voting_clf.fit(X_resampled, y_resampled)\n",
    "\n",
    "# Evaluate the model\n",
    "y_pred = voting_clf.predict(X_test)\n"
   ]
  },
  {
   "cell_type": "code",
   "execution_count": null,
   "id": "029e2b02-0b7d-4f9d-aeb5-aecdc476ec84",
   "metadata": {},
   "outputs": [],
   "source": [
    "# Drop rows with missing values\n",
    "X_resampled_cleaned = X_resampled.dropna()\n",
    "\n",
    "# Fit the voting classifier\n",
    "voting_clf.fit(X_resampled_cleaned, y_resampled)\n",
    "\n",
    "# Evaluate the model\n",
    "y_pred = voting_clf.predict(X_test)\n"
   ]
  },
  {
   "cell_type": "code",
   "execution_count": null,
   "id": "fe1d3a1d-0ff5-4b7c-b571-d060528ab8a8",
   "metadata": {},
   "outputs": [],
   "source": [
    "from sklearn.ensemble import HistGradientBoostingClassifier\n",
    "\n",
    "# Use models that can handle NaN values\n",
    "model1 = HistGradientBoostingClassifier()\n",
    "model2 = RandomForestClassifier()\n",
    "model3 = SVC(probability=True)\n",
    "\n",
    "# Create a voting classifier\n",
    "voting_clf = VotingClassifier(estimators=[\n",
    "    ('hist', model1), ('rf', model2), ('svc', model3)],\n",
    "    voting='soft')\n",
    "\n",
    "# Fit the ensemble model\n",
    "voting_clf.fit(X_resampled, y_resampled)\n",
    "\n",
    "# Evaluate the model\n",
    "y_pred = voting_clf.predict(X_test)\n"
   ]
  },
  {
   "cell_type": "code",
   "execution_count": null,
   "id": "bef599a5-b627-489f-8377-b83815e74b89",
   "metadata": {},
   "outputs": [],
   "source": []
  },
  {
   "cell_type": "code",
   "execution_count": null,
   "id": "07db86b1-1256-461e-9192-181219eb4bcf",
   "metadata": {},
   "outputs": [],
   "source": []
  },
  {
   "cell_type": "code",
   "execution_count": null,
   "id": "83c5ec64-04db-480f-8085-1ec77342339f",
   "metadata": {},
   "outputs": [],
   "source": []
  },
  {
   "cell_type": "code",
   "execution_count": 244,
   "id": "eeaab415-2663-441d-8565-84a45944a7be",
   "metadata": {},
   "outputs": [
    {
     "ename": "ValueError",
     "evalue": "Input X contains NaN.\nLogisticRegression does not accept missing values encoded as NaN natively. For supervised learning, you might want to consider sklearn.ensemble.HistGradientBoostingClassifier and Regressor which accept missing values encoded as NaNs natively. Alternatively, it is possible to preprocess the data, for instance by using an imputer transformer in a pipeline or drop samples with missing values. See https://scikit-learn.org/stable/modules/impute.html You can find a list of all estimators that handle NaN values at the following page: https://scikit-learn.org/stable/modules/impute.html#estimators-that-handle-nan-values",
     "output_type": "error",
     "traceback": [
      "\u001b[1;31m---------------------------------------------------------------------------\u001b[0m",
      "\u001b[1;31mValueError\u001b[0m                                Traceback (most recent call last)",
      "Cell \u001b[1;32mIn[244], line 25\u001b[0m\n\u001b[0;32m     20\u001b[0m voting_clf \u001b[38;5;241m=\u001b[39m VotingClassifier(estimators\u001b[38;5;241m=\u001b[39m[\n\u001b[0;32m     21\u001b[0m     (\u001b[38;5;124m'\u001b[39m\u001b[38;5;124mlr\u001b[39m\u001b[38;5;124m'\u001b[39m, model1), (\u001b[38;5;124m'\u001b[39m\u001b[38;5;124mrf\u001b[39m\u001b[38;5;124m'\u001b[39m, model2), (\u001b[38;5;124m'\u001b[39m\u001b[38;5;124msvc\u001b[39m\u001b[38;5;124m'\u001b[39m, model3)],\n\u001b[0;32m     22\u001b[0m     voting\u001b[38;5;241m=\u001b[39m\u001b[38;5;124m'\u001b[39m\u001b[38;5;124msoft\u001b[39m\u001b[38;5;124m'\u001b[39m)\n\u001b[0;32m     24\u001b[0m \u001b[38;5;66;03m# Fit the ensemble model\u001b[39;00m\n\u001b[1;32m---> 25\u001b[0m voting_clf\u001b[38;5;241m.\u001b[39mfit(X_resampled, y_resampled)\n\u001b[0;32m     27\u001b[0m \u001b[38;5;66;03m# Evaluate the model\u001b[39;00m\n\u001b[0;32m     28\u001b[0m y_pred \u001b[38;5;241m=\u001b[39m voting_clf\u001b[38;5;241m.\u001b[39mpredict(X_test)\n",
      "File \u001b[1;32mC:\\ProgramData\\anaconda3\\Lib\\site-packages\\sklearn\\ensemble\\_voting.py:346\u001b[0m, in \u001b[0;36mVotingClassifier.fit\u001b[1;34m(self, X, y, sample_weight)\u001b[0m\n\u001b[0;32m    343\u001b[0m \u001b[38;5;28mself\u001b[39m\u001b[38;5;241m.\u001b[39mclasses_ \u001b[38;5;241m=\u001b[39m \u001b[38;5;28mself\u001b[39m\u001b[38;5;241m.\u001b[39mle_\u001b[38;5;241m.\u001b[39mclasses_\n\u001b[0;32m    344\u001b[0m transformed_y \u001b[38;5;241m=\u001b[39m \u001b[38;5;28mself\u001b[39m\u001b[38;5;241m.\u001b[39mle_\u001b[38;5;241m.\u001b[39mtransform(y)\n\u001b[1;32m--> 346\u001b[0m \u001b[38;5;28;01mreturn\u001b[39;00m \u001b[38;5;28msuper\u001b[39m()\u001b[38;5;241m.\u001b[39mfit(X, transformed_y, sample_weight)\n",
      "File \u001b[1;32mC:\\ProgramData\\anaconda3\\Lib\\site-packages\\sklearn\\ensemble\\_voting.py:81\u001b[0m, in \u001b[0;36m_BaseVoting.fit\u001b[1;34m(self, X, y, sample_weight)\u001b[0m\n\u001b[0;32m     75\u001b[0m \u001b[38;5;28;01mif\u001b[39;00m \u001b[38;5;28mself\u001b[39m\u001b[38;5;241m.\u001b[39mweights \u001b[38;5;129;01mis\u001b[39;00m \u001b[38;5;129;01mnot\u001b[39;00m \u001b[38;5;28;01mNone\u001b[39;00m \u001b[38;5;129;01mand\u001b[39;00m \u001b[38;5;28mlen\u001b[39m(\u001b[38;5;28mself\u001b[39m\u001b[38;5;241m.\u001b[39mweights) \u001b[38;5;241m!=\u001b[39m \u001b[38;5;28mlen\u001b[39m(\u001b[38;5;28mself\u001b[39m\u001b[38;5;241m.\u001b[39mestimators):\n\u001b[0;32m     76\u001b[0m     \u001b[38;5;28;01mraise\u001b[39;00m \u001b[38;5;167;01mValueError\u001b[39;00m(\n\u001b[0;32m     77\u001b[0m         \u001b[38;5;124m\"\u001b[39m\u001b[38;5;124mNumber of `estimators` and weights must be equal; got\u001b[39m\u001b[38;5;124m\"\u001b[39m\n\u001b[0;32m     78\u001b[0m         \u001b[38;5;124mf\u001b[39m\u001b[38;5;124m\"\u001b[39m\u001b[38;5;124m \u001b[39m\u001b[38;5;132;01m{\u001b[39;00m\u001b[38;5;28mlen\u001b[39m(\u001b[38;5;28mself\u001b[39m\u001b[38;5;241m.\u001b[39mweights)\u001b[38;5;132;01m}\u001b[39;00m\u001b[38;5;124m weights, \u001b[39m\u001b[38;5;132;01m{\u001b[39;00m\u001b[38;5;28mlen\u001b[39m(\u001b[38;5;28mself\u001b[39m\u001b[38;5;241m.\u001b[39mestimators)\u001b[38;5;132;01m}\u001b[39;00m\u001b[38;5;124m estimators\u001b[39m\u001b[38;5;124m\"\u001b[39m\n\u001b[0;32m     79\u001b[0m     )\n\u001b[1;32m---> 81\u001b[0m \u001b[38;5;28mself\u001b[39m\u001b[38;5;241m.\u001b[39mestimators_ \u001b[38;5;241m=\u001b[39m Parallel(n_jobs\u001b[38;5;241m=\u001b[39m\u001b[38;5;28mself\u001b[39m\u001b[38;5;241m.\u001b[39mn_jobs)(\n\u001b[0;32m     82\u001b[0m     delayed(_fit_single_estimator)(\n\u001b[0;32m     83\u001b[0m         clone(clf),\n\u001b[0;32m     84\u001b[0m         X,\n\u001b[0;32m     85\u001b[0m         y,\n\u001b[0;32m     86\u001b[0m         sample_weight\u001b[38;5;241m=\u001b[39msample_weight,\n\u001b[0;32m     87\u001b[0m         message_clsname\u001b[38;5;241m=\u001b[39m\u001b[38;5;124m\"\u001b[39m\u001b[38;5;124mVoting\u001b[39m\u001b[38;5;124m\"\u001b[39m,\n\u001b[0;32m     88\u001b[0m         message\u001b[38;5;241m=\u001b[39m\u001b[38;5;28mself\u001b[39m\u001b[38;5;241m.\u001b[39m_log_message(names[idx], idx \u001b[38;5;241m+\u001b[39m \u001b[38;5;241m1\u001b[39m, \u001b[38;5;28mlen\u001b[39m(clfs)),\n\u001b[0;32m     89\u001b[0m     )\n\u001b[0;32m     90\u001b[0m     \u001b[38;5;28;01mfor\u001b[39;00m idx, clf \u001b[38;5;129;01min\u001b[39;00m \u001b[38;5;28menumerate\u001b[39m(clfs)\n\u001b[0;32m     91\u001b[0m     \u001b[38;5;28;01mif\u001b[39;00m clf \u001b[38;5;241m!=\u001b[39m \u001b[38;5;124m\"\u001b[39m\u001b[38;5;124mdrop\u001b[39m\u001b[38;5;124m\"\u001b[39m\n\u001b[0;32m     92\u001b[0m )\n\u001b[0;32m     94\u001b[0m \u001b[38;5;28mself\u001b[39m\u001b[38;5;241m.\u001b[39mnamed_estimators_ \u001b[38;5;241m=\u001b[39m Bunch()\n\u001b[0;32m     96\u001b[0m \u001b[38;5;66;03m# Uses 'drop' as placeholder for dropped estimators\u001b[39;00m\n",
      "File \u001b[1;32mC:\\ProgramData\\anaconda3\\Lib\\site-packages\\sklearn\\utils\\parallel.py:63\u001b[0m, in \u001b[0;36mParallel.__call__\u001b[1;34m(self, iterable)\u001b[0m\n\u001b[0;32m     58\u001b[0m config \u001b[38;5;241m=\u001b[39m get_config()\n\u001b[0;32m     59\u001b[0m iterable_with_config \u001b[38;5;241m=\u001b[39m (\n\u001b[0;32m     60\u001b[0m     (_with_config(delayed_func, config), args, kwargs)\n\u001b[0;32m     61\u001b[0m     \u001b[38;5;28;01mfor\u001b[39;00m delayed_func, args, kwargs \u001b[38;5;129;01min\u001b[39;00m iterable\n\u001b[0;32m     62\u001b[0m )\n\u001b[1;32m---> 63\u001b[0m \u001b[38;5;28;01mreturn\u001b[39;00m \u001b[38;5;28msuper\u001b[39m()\u001b[38;5;241m.\u001b[39m\u001b[38;5;21m__call__\u001b[39m(iterable_with_config)\n",
      "File \u001b[1;32mC:\\ProgramData\\anaconda3\\Lib\\site-packages\\joblib\\parallel.py:1085\u001b[0m, in \u001b[0;36mParallel.__call__\u001b[1;34m(self, iterable)\u001b[0m\n\u001b[0;32m   1076\u001b[0m \u001b[38;5;28;01mtry\u001b[39;00m:\n\u001b[0;32m   1077\u001b[0m     \u001b[38;5;66;03m# Only set self._iterating to True if at least a batch\u001b[39;00m\n\u001b[0;32m   1078\u001b[0m     \u001b[38;5;66;03m# was dispatched. In particular this covers the edge\u001b[39;00m\n\u001b[1;32m   (...)\u001b[0m\n\u001b[0;32m   1082\u001b[0m     \u001b[38;5;66;03m# was very quick and its callback already dispatched all the\u001b[39;00m\n\u001b[0;32m   1083\u001b[0m     \u001b[38;5;66;03m# remaining jobs.\u001b[39;00m\n\u001b[0;32m   1084\u001b[0m     \u001b[38;5;28mself\u001b[39m\u001b[38;5;241m.\u001b[39m_iterating \u001b[38;5;241m=\u001b[39m \u001b[38;5;28;01mFalse\u001b[39;00m\n\u001b[1;32m-> 1085\u001b[0m     \u001b[38;5;28;01mif\u001b[39;00m \u001b[38;5;28mself\u001b[39m\u001b[38;5;241m.\u001b[39mdispatch_one_batch(iterator):\n\u001b[0;32m   1086\u001b[0m         \u001b[38;5;28mself\u001b[39m\u001b[38;5;241m.\u001b[39m_iterating \u001b[38;5;241m=\u001b[39m \u001b[38;5;28mself\u001b[39m\u001b[38;5;241m.\u001b[39m_original_iterator \u001b[38;5;129;01mis\u001b[39;00m \u001b[38;5;129;01mnot\u001b[39;00m \u001b[38;5;28;01mNone\u001b[39;00m\n\u001b[0;32m   1088\u001b[0m     \u001b[38;5;28;01mwhile\u001b[39;00m \u001b[38;5;28mself\u001b[39m\u001b[38;5;241m.\u001b[39mdispatch_one_batch(iterator):\n",
      "File \u001b[1;32mC:\\ProgramData\\anaconda3\\Lib\\site-packages\\joblib\\parallel.py:901\u001b[0m, in \u001b[0;36mParallel.dispatch_one_batch\u001b[1;34m(self, iterator)\u001b[0m\n\u001b[0;32m    899\u001b[0m     \u001b[38;5;28;01mreturn\u001b[39;00m \u001b[38;5;28;01mFalse\u001b[39;00m\n\u001b[0;32m    900\u001b[0m \u001b[38;5;28;01melse\u001b[39;00m:\n\u001b[1;32m--> 901\u001b[0m     \u001b[38;5;28mself\u001b[39m\u001b[38;5;241m.\u001b[39m_dispatch(tasks)\n\u001b[0;32m    902\u001b[0m     \u001b[38;5;28;01mreturn\u001b[39;00m \u001b[38;5;28;01mTrue\u001b[39;00m\n",
      "File \u001b[1;32mC:\\ProgramData\\anaconda3\\Lib\\site-packages\\joblib\\parallel.py:819\u001b[0m, in \u001b[0;36mParallel._dispatch\u001b[1;34m(self, batch)\u001b[0m\n\u001b[0;32m    817\u001b[0m \u001b[38;5;28;01mwith\u001b[39;00m \u001b[38;5;28mself\u001b[39m\u001b[38;5;241m.\u001b[39m_lock:\n\u001b[0;32m    818\u001b[0m     job_idx \u001b[38;5;241m=\u001b[39m \u001b[38;5;28mlen\u001b[39m(\u001b[38;5;28mself\u001b[39m\u001b[38;5;241m.\u001b[39m_jobs)\n\u001b[1;32m--> 819\u001b[0m     job \u001b[38;5;241m=\u001b[39m \u001b[38;5;28mself\u001b[39m\u001b[38;5;241m.\u001b[39m_backend\u001b[38;5;241m.\u001b[39mapply_async(batch, callback\u001b[38;5;241m=\u001b[39mcb)\n\u001b[0;32m    820\u001b[0m     \u001b[38;5;66;03m# A job can complete so quickly than its callback is\u001b[39;00m\n\u001b[0;32m    821\u001b[0m     \u001b[38;5;66;03m# called before we get here, causing self._jobs to\u001b[39;00m\n\u001b[0;32m    822\u001b[0m     \u001b[38;5;66;03m# grow. To ensure correct results ordering, .insert is\u001b[39;00m\n\u001b[0;32m    823\u001b[0m     \u001b[38;5;66;03m# used (rather than .append) in the following line\u001b[39;00m\n\u001b[0;32m    824\u001b[0m     \u001b[38;5;28mself\u001b[39m\u001b[38;5;241m.\u001b[39m_jobs\u001b[38;5;241m.\u001b[39minsert(job_idx, job)\n",
      "File \u001b[1;32mC:\\ProgramData\\anaconda3\\Lib\\site-packages\\joblib\\_parallel_backends.py:208\u001b[0m, in \u001b[0;36mSequentialBackend.apply_async\u001b[1;34m(self, func, callback)\u001b[0m\n\u001b[0;32m    206\u001b[0m \u001b[38;5;28;01mdef\u001b[39;00m \u001b[38;5;21mapply_async\u001b[39m(\u001b[38;5;28mself\u001b[39m, func, callback\u001b[38;5;241m=\u001b[39m\u001b[38;5;28;01mNone\u001b[39;00m):\n\u001b[0;32m    207\u001b[0m \u001b[38;5;250m    \u001b[39m\u001b[38;5;124;03m\"\"\"Schedule a func to be run\"\"\"\u001b[39;00m\n\u001b[1;32m--> 208\u001b[0m     result \u001b[38;5;241m=\u001b[39m ImmediateResult(func)\n\u001b[0;32m    209\u001b[0m     \u001b[38;5;28;01mif\u001b[39;00m callback:\n\u001b[0;32m    210\u001b[0m         callback(result)\n",
      "File \u001b[1;32mC:\\ProgramData\\anaconda3\\Lib\\site-packages\\joblib\\_parallel_backends.py:597\u001b[0m, in \u001b[0;36mImmediateResult.__init__\u001b[1;34m(self, batch)\u001b[0m\n\u001b[0;32m    594\u001b[0m \u001b[38;5;28;01mdef\u001b[39;00m \u001b[38;5;21m__init__\u001b[39m(\u001b[38;5;28mself\u001b[39m, batch):\n\u001b[0;32m    595\u001b[0m     \u001b[38;5;66;03m# Don't delay the application, to avoid keeping the input\u001b[39;00m\n\u001b[0;32m    596\u001b[0m     \u001b[38;5;66;03m# arguments in memory\u001b[39;00m\n\u001b[1;32m--> 597\u001b[0m     \u001b[38;5;28mself\u001b[39m\u001b[38;5;241m.\u001b[39mresults \u001b[38;5;241m=\u001b[39m batch()\n",
      "File \u001b[1;32mC:\\ProgramData\\anaconda3\\Lib\\site-packages\\joblib\\parallel.py:288\u001b[0m, in \u001b[0;36mBatchedCalls.__call__\u001b[1;34m(self)\u001b[0m\n\u001b[0;32m    284\u001b[0m \u001b[38;5;28;01mdef\u001b[39;00m \u001b[38;5;21m__call__\u001b[39m(\u001b[38;5;28mself\u001b[39m):\n\u001b[0;32m    285\u001b[0m     \u001b[38;5;66;03m# Set the default nested backend to self._backend but do not set the\u001b[39;00m\n\u001b[0;32m    286\u001b[0m     \u001b[38;5;66;03m# change the default number of processes to -1\u001b[39;00m\n\u001b[0;32m    287\u001b[0m     \u001b[38;5;28;01mwith\u001b[39;00m parallel_backend(\u001b[38;5;28mself\u001b[39m\u001b[38;5;241m.\u001b[39m_backend, n_jobs\u001b[38;5;241m=\u001b[39m\u001b[38;5;28mself\u001b[39m\u001b[38;5;241m.\u001b[39m_n_jobs):\n\u001b[1;32m--> 288\u001b[0m         \u001b[38;5;28;01mreturn\u001b[39;00m [func(\u001b[38;5;241m*\u001b[39margs, \u001b[38;5;241m*\u001b[39m\u001b[38;5;241m*\u001b[39mkwargs)\n\u001b[0;32m    289\u001b[0m                 \u001b[38;5;28;01mfor\u001b[39;00m func, args, kwargs \u001b[38;5;129;01min\u001b[39;00m \u001b[38;5;28mself\u001b[39m\u001b[38;5;241m.\u001b[39mitems]\n",
      "File \u001b[1;32mC:\\ProgramData\\anaconda3\\Lib\\site-packages\\joblib\\parallel.py:288\u001b[0m, in \u001b[0;36m<listcomp>\u001b[1;34m(.0)\u001b[0m\n\u001b[0;32m    284\u001b[0m \u001b[38;5;28;01mdef\u001b[39;00m \u001b[38;5;21m__call__\u001b[39m(\u001b[38;5;28mself\u001b[39m):\n\u001b[0;32m    285\u001b[0m     \u001b[38;5;66;03m# Set the default nested backend to self._backend but do not set the\u001b[39;00m\n\u001b[0;32m    286\u001b[0m     \u001b[38;5;66;03m# change the default number of processes to -1\u001b[39;00m\n\u001b[0;32m    287\u001b[0m     \u001b[38;5;28;01mwith\u001b[39;00m parallel_backend(\u001b[38;5;28mself\u001b[39m\u001b[38;5;241m.\u001b[39m_backend, n_jobs\u001b[38;5;241m=\u001b[39m\u001b[38;5;28mself\u001b[39m\u001b[38;5;241m.\u001b[39m_n_jobs):\n\u001b[1;32m--> 288\u001b[0m         \u001b[38;5;28;01mreturn\u001b[39;00m [func(\u001b[38;5;241m*\u001b[39margs, \u001b[38;5;241m*\u001b[39m\u001b[38;5;241m*\u001b[39mkwargs)\n\u001b[0;32m    289\u001b[0m                 \u001b[38;5;28;01mfor\u001b[39;00m func, args, kwargs \u001b[38;5;129;01min\u001b[39;00m \u001b[38;5;28mself\u001b[39m\u001b[38;5;241m.\u001b[39mitems]\n",
      "File \u001b[1;32mC:\\ProgramData\\anaconda3\\Lib\\site-packages\\sklearn\\utils\\parallel.py:123\u001b[0m, in \u001b[0;36m_FuncWrapper.__call__\u001b[1;34m(self, *args, **kwargs)\u001b[0m\n\u001b[0;32m    121\u001b[0m     config \u001b[38;5;241m=\u001b[39m {}\n\u001b[0;32m    122\u001b[0m \u001b[38;5;28;01mwith\u001b[39;00m config_context(\u001b[38;5;241m*\u001b[39m\u001b[38;5;241m*\u001b[39mconfig):\n\u001b[1;32m--> 123\u001b[0m     \u001b[38;5;28;01mreturn\u001b[39;00m \u001b[38;5;28mself\u001b[39m\u001b[38;5;241m.\u001b[39mfunction(\u001b[38;5;241m*\u001b[39margs, \u001b[38;5;241m*\u001b[39m\u001b[38;5;241m*\u001b[39mkwargs)\n",
      "File \u001b[1;32mC:\\ProgramData\\anaconda3\\Lib\\site-packages\\sklearn\\ensemble\\_base.py:46\u001b[0m, in \u001b[0;36m_fit_single_estimator\u001b[1;34m(estimator, X, y, sample_weight, message_clsname, message)\u001b[0m\n\u001b[0;32m     44\u001b[0m \u001b[38;5;28;01melse\u001b[39;00m:\n\u001b[0;32m     45\u001b[0m     \u001b[38;5;28;01mwith\u001b[39;00m _print_elapsed_time(message_clsname, message):\n\u001b[1;32m---> 46\u001b[0m         estimator\u001b[38;5;241m.\u001b[39mfit(X, y)\n\u001b[0;32m     47\u001b[0m \u001b[38;5;28;01mreturn\u001b[39;00m estimator\n",
      "File \u001b[1;32mC:\\ProgramData\\anaconda3\\Lib\\site-packages\\sklearn\\linear_model\\_logistic.py:1196\u001b[0m, in \u001b[0;36mLogisticRegression.fit\u001b[1;34m(self, X, y, sample_weight)\u001b[0m\n\u001b[0;32m   1193\u001b[0m \u001b[38;5;28;01melse\u001b[39;00m:\n\u001b[0;32m   1194\u001b[0m     _dtype \u001b[38;5;241m=\u001b[39m [np\u001b[38;5;241m.\u001b[39mfloat64, np\u001b[38;5;241m.\u001b[39mfloat32]\n\u001b[1;32m-> 1196\u001b[0m X, y \u001b[38;5;241m=\u001b[39m \u001b[38;5;28mself\u001b[39m\u001b[38;5;241m.\u001b[39m_validate_data(\n\u001b[0;32m   1197\u001b[0m     X,\n\u001b[0;32m   1198\u001b[0m     y,\n\u001b[0;32m   1199\u001b[0m     accept_sparse\u001b[38;5;241m=\u001b[39m\u001b[38;5;124m\"\u001b[39m\u001b[38;5;124mcsr\u001b[39m\u001b[38;5;124m\"\u001b[39m,\n\u001b[0;32m   1200\u001b[0m     dtype\u001b[38;5;241m=\u001b[39m_dtype,\n\u001b[0;32m   1201\u001b[0m     order\u001b[38;5;241m=\u001b[39m\u001b[38;5;124m\"\u001b[39m\u001b[38;5;124mC\u001b[39m\u001b[38;5;124m\"\u001b[39m,\n\u001b[0;32m   1202\u001b[0m     accept_large_sparse\u001b[38;5;241m=\u001b[39msolver \u001b[38;5;129;01mnot\u001b[39;00m \u001b[38;5;129;01min\u001b[39;00m [\u001b[38;5;124m\"\u001b[39m\u001b[38;5;124mliblinear\u001b[39m\u001b[38;5;124m\"\u001b[39m, \u001b[38;5;124m\"\u001b[39m\u001b[38;5;124msag\u001b[39m\u001b[38;5;124m\"\u001b[39m, \u001b[38;5;124m\"\u001b[39m\u001b[38;5;124msaga\u001b[39m\u001b[38;5;124m\"\u001b[39m],\n\u001b[0;32m   1203\u001b[0m )\n\u001b[0;32m   1204\u001b[0m check_classification_targets(y)\n\u001b[0;32m   1205\u001b[0m \u001b[38;5;28mself\u001b[39m\u001b[38;5;241m.\u001b[39mclasses_ \u001b[38;5;241m=\u001b[39m np\u001b[38;5;241m.\u001b[39munique(y)\n",
      "File \u001b[1;32mC:\\ProgramData\\anaconda3\\Lib\\site-packages\\sklearn\\base.py:584\u001b[0m, in \u001b[0;36mBaseEstimator._validate_data\u001b[1;34m(self, X, y, reset, validate_separately, **check_params)\u001b[0m\n\u001b[0;32m    582\u001b[0m         y \u001b[38;5;241m=\u001b[39m check_array(y, input_name\u001b[38;5;241m=\u001b[39m\u001b[38;5;124m\"\u001b[39m\u001b[38;5;124my\u001b[39m\u001b[38;5;124m\"\u001b[39m, \u001b[38;5;241m*\u001b[39m\u001b[38;5;241m*\u001b[39mcheck_y_params)\n\u001b[0;32m    583\u001b[0m     \u001b[38;5;28;01melse\u001b[39;00m:\n\u001b[1;32m--> 584\u001b[0m         X, y \u001b[38;5;241m=\u001b[39m check_X_y(X, y, \u001b[38;5;241m*\u001b[39m\u001b[38;5;241m*\u001b[39mcheck_params)\n\u001b[0;32m    585\u001b[0m     out \u001b[38;5;241m=\u001b[39m X, y\n\u001b[0;32m    587\u001b[0m \u001b[38;5;28;01mif\u001b[39;00m \u001b[38;5;129;01mnot\u001b[39;00m no_val_X \u001b[38;5;129;01mand\u001b[39;00m check_params\u001b[38;5;241m.\u001b[39mget(\u001b[38;5;124m\"\u001b[39m\u001b[38;5;124mensure_2d\u001b[39m\u001b[38;5;124m\"\u001b[39m, \u001b[38;5;28;01mTrue\u001b[39;00m):\n",
      "File \u001b[1;32mC:\\ProgramData\\anaconda3\\Lib\\site-packages\\sklearn\\utils\\validation.py:1106\u001b[0m, in \u001b[0;36mcheck_X_y\u001b[1;34m(X, y, accept_sparse, accept_large_sparse, dtype, order, copy, force_all_finite, ensure_2d, allow_nd, multi_output, ensure_min_samples, ensure_min_features, y_numeric, estimator)\u001b[0m\n\u001b[0;32m   1101\u001b[0m         estimator_name \u001b[38;5;241m=\u001b[39m _check_estimator_name(estimator)\n\u001b[0;32m   1102\u001b[0m     \u001b[38;5;28;01mraise\u001b[39;00m \u001b[38;5;167;01mValueError\u001b[39;00m(\n\u001b[0;32m   1103\u001b[0m         \u001b[38;5;124mf\u001b[39m\u001b[38;5;124m\"\u001b[39m\u001b[38;5;132;01m{\u001b[39;00mestimator_name\u001b[38;5;132;01m}\u001b[39;00m\u001b[38;5;124m requires y to be passed, but the target y is None\u001b[39m\u001b[38;5;124m\"\u001b[39m\n\u001b[0;32m   1104\u001b[0m     )\n\u001b[1;32m-> 1106\u001b[0m X \u001b[38;5;241m=\u001b[39m check_array(\n\u001b[0;32m   1107\u001b[0m     X,\n\u001b[0;32m   1108\u001b[0m     accept_sparse\u001b[38;5;241m=\u001b[39maccept_sparse,\n\u001b[0;32m   1109\u001b[0m     accept_large_sparse\u001b[38;5;241m=\u001b[39maccept_large_sparse,\n\u001b[0;32m   1110\u001b[0m     dtype\u001b[38;5;241m=\u001b[39mdtype,\n\u001b[0;32m   1111\u001b[0m     order\u001b[38;5;241m=\u001b[39morder,\n\u001b[0;32m   1112\u001b[0m     copy\u001b[38;5;241m=\u001b[39mcopy,\n\u001b[0;32m   1113\u001b[0m     force_all_finite\u001b[38;5;241m=\u001b[39mforce_all_finite,\n\u001b[0;32m   1114\u001b[0m     ensure_2d\u001b[38;5;241m=\u001b[39mensure_2d,\n\u001b[0;32m   1115\u001b[0m     allow_nd\u001b[38;5;241m=\u001b[39mallow_nd,\n\u001b[0;32m   1116\u001b[0m     ensure_min_samples\u001b[38;5;241m=\u001b[39mensure_min_samples,\n\u001b[0;32m   1117\u001b[0m     ensure_min_features\u001b[38;5;241m=\u001b[39mensure_min_features,\n\u001b[0;32m   1118\u001b[0m     estimator\u001b[38;5;241m=\u001b[39mestimator,\n\u001b[0;32m   1119\u001b[0m     input_name\u001b[38;5;241m=\u001b[39m\u001b[38;5;124m\"\u001b[39m\u001b[38;5;124mX\u001b[39m\u001b[38;5;124m\"\u001b[39m,\n\u001b[0;32m   1120\u001b[0m )\n\u001b[0;32m   1122\u001b[0m y \u001b[38;5;241m=\u001b[39m _check_y(y, multi_output\u001b[38;5;241m=\u001b[39mmulti_output, y_numeric\u001b[38;5;241m=\u001b[39my_numeric, estimator\u001b[38;5;241m=\u001b[39mestimator)\n\u001b[0;32m   1124\u001b[0m check_consistent_length(X, y)\n",
      "File \u001b[1;32mC:\\ProgramData\\anaconda3\\Lib\\site-packages\\sklearn\\utils\\validation.py:921\u001b[0m, in \u001b[0;36mcheck_array\u001b[1;34m(array, accept_sparse, accept_large_sparse, dtype, order, copy, force_all_finite, ensure_2d, allow_nd, ensure_min_samples, ensure_min_features, estimator, input_name)\u001b[0m\n\u001b[0;32m    915\u001b[0m         \u001b[38;5;28;01mraise\u001b[39;00m \u001b[38;5;167;01mValueError\u001b[39;00m(\n\u001b[0;32m    916\u001b[0m             \u001b[38;5;124m\"\u001b[39m\u001b[38;5;124mFound array with dim \u001b[39m\u001b[38;5;132;01m%d\u001b[39;00m\u001b[38;5;124m. \u001b[39m\u001b[38;5;132;01m%s\u001b[39;00m\u001b[38;5;124m expected <= 2.\u001b[39m\u001b[38;5;124m\"\u001b[39m\n\u001b[0;32m    917\u001b[0m             \u001b[38;5;241m%\u001b[39m (array\u001b[38;5;241m.\u001b[39mndim, estimator_name)\n\u001b[0;32m    918\u001b[0m         )\n\u001b[0;32m    920\u001b[0m     \u001b[38;5;28;01mif\u001b[39;00m force_all_finite:\n\u001b[1;32m--> 921\u001b[0m         _assert_all_finite(\n\u001b[0;32m    922\u001b[0m             array,\n\u001b[0;32m    923\u001b[0m             input_name\u001b[38;5;241m=\u001b[39minput_name,\n\u001b[0;32m    924\u001b[0m             estimator_name\u001b[38;5;241m=\u001b[39mestimator_name,\n\u001b[0;32m    925\u001b[0m             allow_nan\u001b[38;5;241m=\u001b[39mforce_all_finite \u001b[38;5;241m==\u001b[39m \u001b[38;5;124m\"\u001b[39m\u001b[38;5;124mallow-nan\u001b[39m\u001b[38;5;124m\"\u001b[39m,\n\u001b[0;32m    926\u001b[0m         )\n\u001b[0;32m    928\u001b[0m \u001b[38;5;28;01mif\u001b[39;00m ensure_min_samples \u001b[38;5;241m>\u001b[39m \u001b[38;5;241m0\u001b[39m:\n\u001b[0;32m    929\u001b[0m     n_samples \u001b[38;5;241m=\u001b[39m _num_samples(array)\n",
      "File \u001b[1;32mC:\\ProgramData\\anaconda3\\Lib\\site-packages\\sklearn\\utils\\validation.py:161\u001b[0m, in \u001b[0;36m_assert_all_finite\u001b[1;34m(X, allow_nan, msg_dtype, estimator_name, input_name)\u001b[0m\n\u001b[0;32m    144\u001b[0m \u001b[38;5;28;01mif\u001b[39;00m estimator_name \u001b[38;5;129;01mand\u001b[39;00m input_name \u001b[38;5;241m==\u001b[39m \u001b[38;5;124m\"\u001b[39m\u001b[38;5;124mX\u001b[39m\u001b[38;5;124m\"\u001b[39m \u001b[38;5;129;01mand\u001b[39;00m has_nan_error:\n\u001b[0;32m    145\u001b[0m     \u001b[38;5;66;03m# Improve the error message on how to handle missing values in\u001b[39;00m\n\u001b[0;32m    146\u001b[0m     \u001b[38;5;66;03m# scikit-learn.\u001b[39;00m\n\u001b[0;32m    147\u001b[0m     msg_err \u001b[38;5;241m+\u001b[39m\u001b[38;5;241m=\u001b[39m (\n\u001b[0;32m    148\u001b[0m         \u001b[38;5;124mf\u001b[39m\u001b[38;5;124m\"\u001b[39m\u001b[38;5;130;01m\\n\u001b[39;00m\u001b[38;5;132;01m{\u001b[39;00mestimator_name\u001b[38;5;132;01m}\u001b[39;00m\u001b[38;5;124m does not accept missing values\u001b[39m\u001b[38;5;124m\"\u001b[39m\n\u001b[0;32m    149\u001b[0m         \u001b[38;5;124m\"\u001b[39m\u001b[38;5;124m encoded as NaN natively. For supervised learning, you might want\u001b[39m\u001b[38;5;124m\"\u001b[39m\n\u001b[1;32m   (...)\u001b[0m\n\u001b[0;32m    159\u001b[0m         \u001b[38;5;124m\"\u001b[39m\u001b[38;5;124m#estimators-that-handle-nan-values\u001b[39m\u001b[38;5;124m\"\u001b[39m\n\u001b[0;32m    160\u001b[0m     )\n\u001b[1;32m--> 161\u001b[0m \u001b[38;5;28;01mraise\u001b[39;00m \u001b[38;5;167;01mValueError\u001b[39;00m(msg_err)\n",
      "\u001b[1;31mValueError\u001b[0m: Input X contains NaN.\nLogisticRegression does not accept missing values encoded as NaN natively. For supervised learning, you might want to consider sklearn.ensemble.HistGradientBoostingClassifier and Regressor which accept missing values encoded as NaNs natively. Alternatively, it is possible to preprocess the data, for instance by using an imputer transformer in a pipeline or drop samples with missing values. See https://scikit-learn.org/stable/modules/impute.html You can find a list of all estimators that handle NaN values at the following page: https://scikit-learn.org/stable/modules/impute.html#estimators-that-handle-nan-values"
     ]
    }
   ],
   "source": [
    "from sklearn.model_selection import train_test_split\n",
    "from sklearn.linear_model import LogisticRegression\n",
    "from imblearn.over_sampling import SMOTE\n",
    "from sklearn.ensemble import VotingClassifier\n",
    "from sklearn.metrics import classification_report, roc_auc_score\n",
    "\n",
    "# Splitting the dataset\n",
    "X_train, X_test, y_train, y_test = train_test_split(X, y, test_size=0.2, random_state=42)\n",
    "\n",
    "# Handling class imbalance\n",
    "smote = SMOTE(random_state=42)\n",
    "X_resampled, y_resampled = smote.fit_resample(X_train, y_train)\n",
    "\n",
    "# Create and train models\n",
    "model1 = LogisticRegression()\n",
    "model2 = RandomForestClassifier()\n",
    "model3 = SVC(probability=True)\n",
    "\n",
    "# Create voting classifier\n",
    "voting_clf = VotingClassifier(estimators=[\n",
    "    ('lr', model1), ('rf', model2), ('svc', model3)],\n",
    "    voting='soft')\n",
    "\n",
    "# Fit the ensemble model\n",
    "voting_clf.fit(X_resampled, y_resampled)\n",
    "\n",
    "# Evaluate the model\n",
    "y_pred = voting_clf.predict(X_test)\n",
    "y_proba = voting_clf.predict_proba(X_test)[:, 1]\n",
    "\n",
    "# Print classification report and AUC score\n",
    "print(classification_report(y_test, y_pred))\n",
    "print(\"AUC Score:\", roc_auc_score(y_test, y_proba))\n"
   ]
  },
  {
   "cell_type": "code",
   "execution_count": 245,
   "id": "5192e7e8-cb61-46a1-a260-184d6b9476b0",
   "metadata": {},
   "outputs": [
    {
     "data": {
      "text/plain": [
       "EDUCATION                       0\n",
       "MARRIAGE                        0\n",
       "PAY_0                           0\n",
       "PAY_2                           0\n",
       "PAY_3                           0\n",
       "PAY_4                           0\n",
       "PAY_5                           0\n",
       "PAY_6                           0\n",
       "LIMIT_BAL_sqrt                  0\n",
       "BILL_AMT1_cbrt_binned           0\n",
       "BILL_AMT2_cbrt_binned           0\n",
       "BILL_AMT3_cbrt_binned           0\n",
       "BILL_AMT4_cbrt_binned           0\n",
       "BILL_AMT5_cbrt_binned           0\n",
       "BILL_AMT6_cbrt_binned           0\n",
       "PAY_AMT1_cbrt_binned            0\n",
       "PAY_AMT2_cbrt_binned            0\n",
       "PAY_AMT3_cbrt_binned            0\n",
       "PAY_AMT4_cbrt_binned            0\n",
       "PAY_AMT5_cbrt_binned            0\n",
       "PAY_AMT6_cbrt_binned            0\n",
       "AGE_sqrt                        0\n",
       "SEX_2                           0\n",
       "default payment next month_1    0\n",
       "dtype: int64"
      ]
     },
     "execution_count": 245,
     "metadata": {},
     "output_type": "execute_result"
    }
   ],
   "source": [
    "df.isnull().sum()"
   ]
  },
  {
   "cell_type": "code",
   "execution_count": null,
   "id": "af5b4339-34f5-4a15-a24a-68679452f6f3",
   "metadata": {},
   "outputs": [],
   "source": []
  }
 ],
 "metadata": {
  "kernelspec": {
   "display_name": "Python 3 (ipykernel)",
   "language": "python",
   "name": "python3"
  },
  "language_info": {
   "codemirror_mode": {
    "name": "ipython",
    "version": 3
   },
   "file_extension": ".py",
   "mimetype": "text/x-python",
   "name": "python",
   "nbconvert_exporter": "python",
   "pygments_lexer": "ipython3",
   "version": "3.11.7"
  }
 },
 "nbformat": 4,
 "nbformat_minor": 5
}
